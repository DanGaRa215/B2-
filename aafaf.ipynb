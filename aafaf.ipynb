{
 "cells": [
  {
   "cell_type": "code",
   "execution_count": 8,
   "metadata": {},
   "outputs": [
    {
     "name": "stdout",
     "output_type": "stream",
     "text": [
      "Main Colors: [[250 250 250]\n",
      " [ 56  55  64]\n",
      " [157 151 159]]\n"
     ]
    }
   ],
   "source": [
    "from PIL import Image\n",
    "from sklearn.cluster import KMeans\n",
    "import numpy as np\n",
    "\n",
    "def extract_colors(img_path, n_colors=3):\n",
    "    try:\n",
    "        img = Image.open(img_path)\n",
    "    except FileNotFoundError:\n",
    "        print(f\"Error: File {img_path} not found.\")\n",
    "        return None\n",
    "    except Exception as e:\n",
    "        print(f\"Error: {e}\")\n",
    "        return None\n",
    "\n",
    "    if img.mode != 'RGB':\n",
    "        img = img.convert('RGB')  # RGBに変換\n",
    "\n",
    "    img = img.resize((150, 150))  # リサイズ\n",
    "    img_data = np.array(img).reshape((-1, 3))\n",
    "\n",
    "    # KMeansで主要な色を抽出\n",
    "    kmeans = KMeans(n_clusters=n_colors, random_state=42).fit(img_data)\n",
    "    colors = kmeans.cluster_centers_.astype(int)\n",
    "    return colors\n",
    "\n",
    "# 主要な色を表示\n",
    "img_path = '/Users/dangararara/lecture/miraisouzou/sorted_images/Accessory Gift Set/17359.jpg'\n",
    "colors = extract_colors(img_path, n_colors=3)\n",
    "\n",
    "if colors is not None:\n",
    "    print(f\"Main Colors: {colors}\")"
   ]
  }
 ],
 "metadata": {
  "kernelspec": {
   "display_name": ".venv",
   "language": "python",
   "name": "python3"
  },
  "language_info": {
   "codemirror_mode": {
    "name": "ipython",
    "version": 3
   },
   "file_extension": ".py",
   "mimetype": "text/x-python",
   "name": "python",
   "nbconvert_exporter": "python",
   "pygments_lexer": "ipython3",
   "version": "3.10.1"
  }
 },
 "nbformat": 4,
 "nbformat_minor": 2
}
