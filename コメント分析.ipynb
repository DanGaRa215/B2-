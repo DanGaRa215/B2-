{
 "cells": [
  {
   "cell_type": "code",
   "execution_count": 26,
   "metadata": {},
   "outputs": [
    {
     "name": "stdout",
     "output_type": "stream",
     "text": [
      "   Image Name  Sentiment Score Category\n",
      "0  image1.jpg              1.0  Popular\n",
      "1  image2.jpg              0.0  Neutral\n"
     ]
    }
   ],
   "source": [
    "from janome.tokenizer import Tokenizer\n",
    "import pandas as pd\n",
    "\n",
    "# 日本語のポジティブ/ネガティブ辞書を準備\n",
    "positive_words = [\"素晴らしい\", \"おしゃれ\", \"最高\", \"好き\"]\n",
    "negative_words = [\"嫌い\", \"最悪\", \"ダサい\", \"悪い\"]\n",
    "\n",
    "# コメントデータ\n",
    "data = pd.DataFrame({\n",
    "    \"Image Name\": [\"image1.jpg\", \"image1.jpg\", \"image2.jpg\", \"image2.jpg\"],\n",
    "    \"Comment\": [\"これは素晴らしいです！\", \"デザインが好きではありません。\", \"とてもおしゃれですね！\", \"これは悪いデザインです。\"]\n",
    "})\n",
    "\n",
    "# 日本語トークン化\n",
    "tokenizer = Tokenizer()\n",
    "\n",
    "def calculate_sentiment(comment):\n",
    "    tokens = tokenizer.tokenize(comment)\n",
    "    score = 0\n",
    "    for token in tokens:\n",
    "        base_form = token.base_form  # 基本形\n",
    "        if base_form in positive_words:\n",
    "            score += 1\n",
    "        elif base_form in negative_words:\n",
    "            score -= 1\n",
    "    return score\n",
    "\n",
    "# スコアリング\n",
    "data['Sentiment Score'] = data['Comment'].apply(calculate_sentiment)\n",
    "\n",
    "# 画像ごとのスコアを集計\n",
    "avg_scores = data.groupby('Image Name')['Sentiment Score'].mean().reset_index()\n",
    "\n",
    "# 人気/不人気を分類\n",
    "avg_scores['Category'] = avg_scores['Sentiment Score'].apply(\n",
    "    lambda x: 'Popular' if x > 0 else 'Unpopular' if x < 0 else 'Neutral'\n",
    ")\n",
    "\n",
    "print(avg_scores)"
   ]
  },
  {
   "cell_type": "code",
   "execution_count": null,
   "metadata": {},
   "outputs": [],
   "source": []
  }
 ],
 "metadata": {
  "kernelspec": {
   "display_name": ".venv",
   "language": "python",
   "name": "python3"
  },
  "language_info": {
   "codemirror_mode": {
    "name": "ipython",
    "version": 3
   },
   "file_extension": ".py",
   "mimetype": "text/x-python",
   "name": "python",
   "nbconvert_exporter": "python",
   "pygments_lexer": "ipython3",
   "version": "3.10.1"
  }
 },
 "nbformat": 4,
 "nbformat_minor": 2
}
